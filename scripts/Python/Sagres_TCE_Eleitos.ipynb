{
 "cells": [
  {
   "cell_type": "markdown",
   "metadata": {},
   "source": [
    "## Script que gera os arquivos base para o aprendizado do Corruptometro."
   ]
  },
  {
   "cell_type": "code",
   "execution_count": 2,
   "metadata": {
    "collapsed": true
   },
   "outputs": [],
   "source": [
    "import pandas as pd\n",
    "import numpy as np\n",
    "import unicodedata\n",
    "path = '../../data/'\n",
    "def padronizaTexto(texto):\n",
    "    \"\"\"\n",
    "    Remove acentos e coloca em caixa alta todo o texto que necessita ser padronizado.\n",
    "    \n",
    "    \"\"\"\n",
    "    return unicodedata.normalize('NFKD', texto.decode('utf-8')).encode('ASCII', 'ignore').upper()"
   ]
  },
  {
   "cell_type": "markdown",
   "metadata": {},
   "source": [
    "### Manipulação das informações da UNIDADE GESTORA"
   ]
  },
  {
   "cell_type": "code",
   "execution_count": 4,
   "metadata": {
    "collapsed": false
   },
   "outputs": [
    {
     "name": "stdout",
     "output_type": "stream",
     "text": [
      "Numero de Gestoes: 446\n",
      "Parte do Arquivo:\n"
     ]
    },
    {
     "data": {
      "text/html": [
       "<div>\n",
       "<table border=\"1\" class=\"dataframe\">\n",
       "  <thead>\n",
       "    <tr style=\"text-align: right;\">\n",
       "      <th></th>\n",
       "      <th>cd_Ugestora</th>\n",
       "      <th>dt_Ano</th>\n",
       "      <th>de_Ugestora</th>\n",
       "    </tr>\n",
       "  </thead>\n",
       "  <tbody>\n",
       "    <tr>\n",
       "      <th>1666</th>\n",
       "      <td>201001</td>\n",
       "      <td>2009</td>\n",
       "      <td>AGUA BRANCA</td>\n",
       "    </tr>\n",
       "    <tr>\n",
       "      <th>1670</th>\n",
       "      <td>201001</td>\n",
       "      <td>2013</td>\n",
       "      <td>AGUA BRANCA</td>\n",
       "    </tr>\n",
       "    <tr>\n",
       "      <th>1680</th>\n",
       "      <td>201002</td>\n",
       "      <td>2009</td>\n",
       "      <td>AGUIAR</td>\n",
       "    </tr>\n",
       "    <tr>\n",
       "      <th>1684</th>\n",
       "      <td>201002</td>\n",
       "      <td>2013</td>\n",
       "      <td>AGUIAR</td>\n",
       "    </tr>\n",
       "    <tr>\n",
       "      <th>1694</th>\n",
       "      <td>201003</td>\n",
       "      <td>2009</td>\n",
       "      <td>ALAGOA GRANDE</td>\n",
       "    </tr>\n",
       "  </tbody>\n",
       "</table>\n",
       "</div>"
      ],
      "text/plain": [
       "      cd_Ugestora dt_Ano    de_Ugestora\n",
       "1666       201001   2009    AGUA BRANCA\n",
       "1670       201001   2013    AGUA BRANCA\n",
       "1680       201002   2009         AGUIAR\n",
       "1684       201002   2013         AGUIAR\n",
       "1694       201003   2009  ALAGOA GRANDE"
      ]
     },
     "execution_count": 4,
     "metadata": {},
     "output_type": "execute_result"
    }
   ],
   "source": [
    "ANO_GESTAO_2009, ANO_GESTAO_2012, ANO_GESTAO_2013, ANO_GESTAO_2016 = 2009, 2012, 2013, 2016\n",
    "\n",
    "def mudaAnoUgestora(ano):\n",
    "    \"\"\"\n",
    "    Troca o valor do dt_Ano pelo ano do inicio da gestão.\n",
    "    Isso será necessário para unir com a tabela de eletos e a de inidoneidade no futuro.\n",
    "    \"\"\"\n",
    "    inicio_gestao_2009, inicio_gestao_2013 = 2009, 2013\n",
    "    if ano >= ANO_GESTAO_2009 and ano <= ANO_GESTAO_2012:\n",
    "        return str(inicio_gestao_2009)\n",
    "    elif ano >= ANO_GESTAO_2013 and ano <= ANO_GESTAO_2016:\n",
    "        return str(inicio_gestao_2013)\n",
    "\n",
    "def nomeUgestora(gestora):\n",
    "    \"\"\"\n",
    "    Remove a frase 'Prefeitura Municipal de'todos os nomes de unidade gestora.\n",
    "\n",
    "    \"\"\"\n",
    "    QUANT_CARACTER_REMOVE = 24\n",
    "    return padronizaTexto(gestora[QUANT_CARACTER_REMOVE:])\n",
    "\n",
    "def manipulaUnidadeGestora():\n",
    "    \"\"\"\n",
    "    Retorna o código da unidade gestora, o ano do inicio da gestão e a unidade gestora para todas as prefeituras\n",
    "    a partir de 2009.\n",
    "\n",
    "    \"\"\"    \n",
    "    path_ges = path+'codigo_ugestora.csv'\n",
    "    ud_gestoras = pd.read_csv(path_ges) \n",
    "    ud_gestoras_pref = ud_gestoras[(ud_gestoras['dt_Ano'] > 2008) & \n",
    "                                   (ud_gestoras['de_Ugestora'].str.contains(\"Prefeitura\"))]\n",
    "    func_anos, func_nome = np.vectorize(mudaAnoUgestora), np.vectorize(nomeUgestora)\n",
    "    anos, u_gestoras = ud_gestoras_pref['dt_Ano'].values, ud_gestoras_pref['de_Ugestora'].values\n",
    "    nov_anos, nov_u_gestoras = func_anos(anos), func_nome(u_gestoras)\n",
    "    ud_gestoras_pref.loc[:,('dt_Ano')], ud_gestoras_pref.loc[:,('de_Ugestora')] = nov_anos, nov_u_gestoras\n",
    "    \n",
    "    condition = ud_gestoras_pref['de_Ugestora'] == 'TACIMA'\n",
    "    ud_gestoras_pref.loc[condition,'de_Ugestora'] = 'CAMPO DE SANTANA'\n",
    "    \n",
    "    return ud_gestoras_pref[['cd_Ugestora','dt_Ano','de_Ugestora']].drop_duplicates()\n",
    "\n",
    "ud_gestoras_pref_pos_2008 = manipulaUnidadeGestora()\n",
    "print 'Numero de Gestoes:', len(ud_gestoras_pref_pos_2008)\n",
    "print 'Parte do Arquivo:'\n",
    "ud_gestoras_pref_pos_2008.head()"
   ]
  },
  {
   "cell_type": "markdown",
   "metadata": {},
   "source": [
    "## Manipulação da base de dados de candidatos eleitos 2008-2012"
   ]
  },
  {
   "cell_type": "code",
   "execution_count": 7,
   "metadata": {
    "collapsed": false
   },
   "outputs": [
    {
     "name": "stdout",
     "output_type": "stream",
     "text": [
      "Numero de Gestoes: 449\n",
      "Parte do Arquivo:\n"
     ]
    },
    {
     "data": {
      "text/html": [
       "<div>\n",
       "<table border=\"1\" class=\"dataframe\">\n",
       "  <thead>\n",
       "    <tr style=\"text-align: right;\">\n",
       "      <th></th>\n",
       "      <th>dt_Ano</th>\n",
       "      <th>de_Ugestora</th>\n",
       "      <th>NOME_CANDIDATO</th>\n",
       "    </tr>\n",
       "  </thead>\n",
       "  <tbody>\n",
       "    <tr>\n",
       "      <th>184412</th>\n",
       "      <td>2009</td>\n",
       "      <td>AGUIAR</td>\n",
       "      <td>MANOEL BATISTA GUEDES FILHO</td>\n",
       "    </tr>\n",
       "    <tr>\n",
       "      <th>184438</th>\n",
       "      <td>2009</td>\n",
       "      <td>ALAGOA GRANDE</td>\n",
       "      <td>JOAO BOSCO CARNEIRO JUNIOR</td>\n",
       "    </tr>\n",
       "    <tr>\n",
       "      <th>184530</th>\n",
       "      <td>2009</td>\n",
       "      <td>ALAGOA NOVA</td>\n",
       "      <td>KLEBER HERCULANO DE MORAES</td>\n",
       "    </tr>\n",
       "    <tr>\n",
       "      <th>184581</th>\n",
       "      <td>2009</td>\n",
       "      <td>ALAGOINHA</td>\n",
       "      <td>ALCIONE MARACAJA DE MORAIS BELTRAO</td>\n",
       "    </tr>\n",
       "    <tr>\n",
       "      <th>184633</th>\n",
       "      <td>2009</td>\n",
       "      <td>ALCANTIL</td>\n",
       "      <td>JOSE MILTON RODRIGUES</td>\n",
       "    </tr>\n",
       "  </tbody>\n",
       "</table>\n",
       "</div>"
      ],
      "text/plain": [
       "       dt_Ano    de_Ugestora                      NOME_CANDIDATO\n",
       "184412   2009         AGUIAR         MANOEL BATISTA GUEDES FILHO\n",
       "184438   2009  ALAGOA GRANDE          JOAO BOSCO CARNEIRO JUNIOR\n",
       "184530   2009    ALAGOA NOVA          KLEBER HERCULANO DE MORAES\n",
       "184581   2009      ALAGOINHA  ALCIONE MARACAJA DE MORAIS BELTRAO\n",
       "184633   2009       ALCANTIL               JOSE MILTON RODRIGUES"
      ]
     },
     "execution_count": 7,
     "metadata": {},
     "output_type": "execute_result"
    }
   ],
   "source": [
    "def anoAposEleicao(ano):\n",
    "    \"\"\"\n",
    "    Para termos como referencia o ano em que o prefeito começou sua gestão. Não o ano em que ele foi eleito.\n",
    "\n",
    "    \"\"\"\n",
    "    ano = str(ano)\n",
    "    ELEICAO_2008, GESTAO_2009, ELEICAO_2012, GESTAO_2013 = '2008', '2009', '2012', '2013'\n",
    "    if ano == ELEICAO_2008:\n",
    "        return GESTAO_2009\n",
    "    elif ano == ELEICAO_2012:\n",
    "        return GESTAO_2013\n",
    "\n",
    "def adicionarLinhasComplementares():\n",
    "    \"\"\"\n",
    "    Muitos dos municipios paraibanos não constam na lista original dos arquivos de candidatos eleitos. Outros \n",
    "    \"\"\"\n",
    "    complemento = pd.DataFrame([[2012,\"NATUBA\" ,\"JOSÉ LINS DA SILVA FILHO\"],\n",
    "                                [2008,\"NATUBA\",\"Josevaldo Alves da Silva\"],\n",
    "                                [2012,\"MULUNGU\",\"JOANA DARC RODRIGUES BANDEIRA FERRAZ\"],\n",
    "                                [2008,\"MULUNGU\",\"José Leonel de Moura\"],\n",
    "                                [2012,\"MONTEIRO\",\"EDNACÉ ALVES SILVESTRE HENRIQUE\"],\n",
    "                                [2008,\"MONTEIRO\",\"Ednacé Alves Silvestre Henrique\"],\n",
    "                                [2012,\"MONTE HOREBE\",\"CLAUDIA APARECIDA DIAS\"],\n",
    "                                [2008,\"MONTE HOREBE\" ,\"Erivan Dias Guarita\"],\n",
    "                                [2012,\"MONTADAS\",\"JAIRO HERCULANO DE MELO\"],\n",
    "                                [2008,\"MONTADAS\" ,\"Lindembergue Souza Silva\"],\n",
    "                                [2012,\"MOGEIRO\",\"ANTONIO JOSÉ FERREIRA\"],\n",
    "                                [2008,\"MOGEIRO\" ,\"Antonio José Ferreira\"],\n",
    "                                [2012,\"MATURÉIA\",\"DANIEL DANTAS WANDERLEY\"],\n",
    "                                [2008,\"MATURÉIA\" ,\"Daniel Dantas Wanderley\"],\n",
    "                                [2012,\"MATO GROSSO\",\"RAELLYSON RODRIGO OLIVEIRA MONTEIRO\"],\n",
    "                                [2008,\"MATO GROSSO\",\"Katsonara Soares de Andrade Monteiro\"],\n",
    "                                [2012,\"MATINHAS\",\"MARIA DE FÁTIMA SILVA\"],\n",
    "                                [2008,\"MATINHAS\" ,\"Jose Costa Aragao Junior\"],\n",
    "                                [2012,\"MATARACA\",\"OLIMPIO DE ALENCAR ARAUJO BEZERRA\"],\n",
    "                                [2008,\"MATARACA\",\"Joao Madruga da Silva\"],\n",
    "                                [2012,\"MASSARANDUBA\",\"JOANA DARC QUEIROGA MENDONCA COUTINHO\"],\n",
    "                                [2008,\"MASSARANDUBA\" ,\"Paulo Fracinette de Oliveira\"],\n",
    "                                [2012,\"MARIZÓPOLIS\",\"JOSÉ VIEIRA DA SILVA\"],\n",
    "                                [2008,\"MARIZÓPOLIS\" ,\"Jose Vieira da Silva\"],\n",
    "                                [2012,\"MARI\",\"MARCOS AURELIO MARTINS DE PAIVA\"],\n",
    "                                [2008,\"MARI\" ,\"Antonio Gomes da Silva\"],\n",
    "                                [2008,\"MALTA\" ,\"Ajácio Gomes Wanderley\"],\n",
    "                                [2012,\"MALTA\" ,\"Manoel Benedito de Lucena Filho\"],\n",
    "                                [2008,\"MAMANGUAPE\" ,\"Eduardo Carneiro de Brito\"],\n",
    "                                [2012,\"MAMANGUAPE\" ,\"Eduardo Carneiro de Brito\"],\n",
    "                                [2008,\"MANAIRA\" ,\"José Simão de Sousa\"],\n",
    "                                [2012,\"MANAIRA\" ,\"Jose Simao de Sousa\"],\n",
    "                                [2012,\"LUCENA\",\"MARCELO SALES DE MENDONÇA\"],\n",
    "                                [2008,\"LUCENA\" ,\"Antonio Mendonça Monteiro Junior\"],\n",
    "                                [2012,\"JOCA CLAUDINO\",\"LUCRECIA ADRIANA DE ANDRADE BARBOSA DANTAS\"],\n",
    "                                [2008,\"JOCA CLAUDINO\" ,\"Lucrecia Adriana de Andrade Barbosa Dantas\"],\n",
    "                                [2008,\"CAMPO DE SANTANA\",\"TARGINO PEREIRA DA COSTA NETO\"],\n",
    "                                [2012,\"CAMPO DE SANTANA\",\"Erivan Bezerra Daniel\"]],\n",
    "                               columns=list(['dt_Ano','de_Ugestora','NOME_CANDIDATO']))\n",
    "    func_nome, func_ano_pos_eleicao =  np.vectorize(padronizaTexto), np.vectorize(anoAposEleicao)\n",
    "    gestoras, nomes_cand = complemento['de_Ugestora'].values,complemento['NOME_CANDIDATO'].values\n",
    "    anos = complemento['dt_Ano'].values\n",
    "    n_gestoras, n_nomes_cand, n_anos = func_nome(gestoras), func_nome(nomes_cand), func_ano_pos_eleicao(anos)\n",
    "    complemento.loc[:,('de_Ugestora')] = n_gestoras\n",
    "    complemento.loc[:,('NOME_CANDIDATO')] = n_nomes_cand\n",
    "    complemento.loc[:,('dt_Ano')] = n_anos\n",
    "\n",
    "    return complemento\n",
    "\n",
    "def manipulaCandidatosEleitos():\n",
    "    \"\"\"\n",
    "    Manipula os dados das eleicoes para selecionar apenas os prefeitos eleitos entre 2008 e 2012.\n",
    "    Ajustando o ano em que começaram seu mandato.\n",
    "    \n",
    "    Os arquivos tiveram de ser compactados para poderem estar em um tamanho aceitável para o github.\n",
    "\n",
    "    \"\"\"\n",
    "    COD_PREFEITO = '11' \n",
    "    path_cand_2008, path_cand_2012 = path+'candidate_local_2008.tar.bz2', path+'candidate_local_2012.tar.bz2'\n",
    "    cand_2008, cand_2012 = pd.read_csv(path_cand_2008, dtype='unicode', compression='bz2'), pd.read_csv(path_cand_2012, dtype='unicode', compression='bz2')\n",
    "    eleicoes2008_2012 = [cand_2008,cand_2012]\n",
    "    cand_2008_2012 = pd.concat(eleicoes2008_2012)\n",
    "    \n",
    "    cand_2008_2012_PB_ELEITOS = cand_2008_2012[(cand_2008_2012['SIGLA_UF'] == 'PB') &\n",
    "                                               (cand_2008_2012['DESC_SIT_TOT_TURNO'] == 'ELEITO') &\n",
    "                                              (cand_2008_2012['CODIGO_CARGO'] == COD_PREFEITO)]\n",
    "    \n",
    "    func_ano_pos_eleicao = np.vectorize(anoAposEleicao)\n",
    "    func_nome_prefeit = np.vectorize(padronizaTexto)\n",
    "    func_nome_cidade = np.vectorize(padronizaTexto)\n",
    "    \n",
    "    anos_eleic = cand_2008_2012_PB_ELEITOS['ANO_ELEICAO'].values\n",
    "    nomes_pref_eleit = cand_2008_2012_PB_ELEITOS['NOME_CANDIDATO'].values\n",
    "    nomes_cid = cand_2008_2012_PB_ELEITOS['DESCRICAO_UE'].values\n",
    "    \n",
    "    anos_pos_eleicao = func_ano_pos_eleicao(anos_eleic) \n",
    "    nomes_pref_eleitos =  func_nome_prefeit(nomes_pref_eleit) \n",
    "    n_nomes_cid = func_nome_cidade(nomes_cid)\n",
    "    \n",
    "    cand_2008_2012_PB_ELEITOS.loc[:,('ANO_ELEICAO')] = anos_pos_eleicao\n",
    "    cand_2008_2012_PB_ELEITOS.loc[:,('NOME_CANDIDATO')] = nomes_pref_eleitos\n",
    "    cand_2008_2012_PB_ELEITOS.loc[:,('DESCRICAO_UE')] = n_nomes_cid\n",
    "    \n",
    "    cand_2008_2012_PB_ELEITOS.rename(columns={'DESCRICAO_UE': 'de_Ugestora', 'ANO_ELEICAO':'dt_Ano'}, inplace=True)\n",
    "    complemento = adicionarLinhasComplementares()\n",
    "    cand_2008_2012_PB_ELEITOS_INIC = cand_2008_2012_PB_ELEITOS[['dt_Ano','de_Ugestora', 'NOME_CANDIDATO']]\n",
    "    cand_2008_2012_completo = [cand_2008_2012_PB_ELEITOS_INIC,complemento]\n",
    "    \n",
    "    cand_2008_2012_completo = pd.concat(cand_2008_2012_completo).drop_duplicates()\n",
    "    \n",
    "    condition = cand_2008_2012_completo['de_Ugestora'] == 'SAO DOMINGOS DE POMBAL'\n",
    "    cand_2008_2012_completo.loc[condition,'de_Ugestora'] = 'SAO DOMINGOS'\n",
    "    cand_2008_2012_completo = cand_2008_2012_completo[~cand_2008_2012_completo['de_Ugestora'].isin(['SANTAREM','TACIMA'])]\n",
    "    \n",
    "    return cand_2008_2012_completo\n",
    "       \n",
    "\"\"\"\n",
    "Os municipios: NOVA OLINDA, SAO JOSE DO SABUGI, SOLEDADE aparecem repetidamente para uma mesma eleicao. \n",
    "Provavelmente pela posse de outros prefeitos diferente os eleitos. Sendo assim, há 223 municipios que \n",
    "para as eleicoes de 2008 e 2012 somam-se 446. Com a repetição dos anos para esses municipios.\n",
    "Além disso: SAO DOMINGOS DE POMBAL virou SAO DOMINGOS, Santarém virou Joca Claudino, Tacima virou Campo de Santana\n",
    "\"\"\"\n",
    "cand_2008_2012_PB_ELEITOS = manipulaCandidatosEleitos()\n",
    "print 'Numero de Gestoes:', len(cand_2008_2012_PB_ELEITOS)\n",
    "print 'Parte do Arquivo:'\n",
    "cand_2008_2012_PB_ELEITOS.head()"
   ]
  },
  {
   "cell_type": "code",
   "execution_count": 6,
   "metadata": {
    "collapsed": false
   },
   "outputs": [
    {
     "name": "stdout",
     "output_type": "stream",
     "text": [
      "set([])\n",
      "set([])\n"
     ]
    }
   ],
   "source": [
    "\"\"\"\n",
    "Mostra a padronização de ambos os arquivos quanto a unidade gestora.\n",
    "\"\"\"\n",
    "a =  set(cand_2008_2012_PB_ELEITOS['de_Ugestora'].unique())\n",
    "b = set(ud_gestoras_pref_pos_2008['de_Ugestora'].unique())\n",
    "print(a-b)\n",
    "print(b-a)"
   ]
  },
  {
   "cell_type": "markdown",
   "metadata": {},
   "source": [
    "## Amplia a tabela Sagres com as informacoes Eleitos por Ano."
   ]
  },
  {
   "cell_type": "code",
   "execution_count": 7,
   "metadata": {
    "collapsed": false
   },
   "outputs": [
    {
     "name": "stdout",
     "output_type": "stream",
     "text": [
      "449\n"
     ]
    },
    {
     "data": {
      "text/html": [
       "<div>\n",
       "<table border=\"1\" class=\"dataframe\">\n",
       "  <thead>\n",
       "    <tr style=\"text-align: right;\">\n",
       "      <th></th>\n",
       "      <th>cd_Ugestora</th>\n",
       "      <th>dt_Ano</th>\n",
       "      <th>de_Ugestora</th>\n",
       "      <th>NOME_CANDIDATO</th>\n",
       "    </tr>\n",
       "  </thead>\n",
       "  <tbody>\n",
       "    <tr>\n",
       "      <th>0</th>\n",
       "      <td>201001</td>\n",
       "      <td>2009</td>\n",
       "      <td>AGUA BRANCA</td>\n",
       "      <td>AROUDO FIRMINO BATISTA</td>\n",
       "    </tr>\n",
       "    <tr>\n",
       "      <th>1</th>\n",
       "      <td>201001</td>\n",
       "      <td>2013</td>\n",
       "      <td>AGUA BRANCA</td>\n",
       "      <td>TARCISIO ALVES FIRMINO</td>\n",
       "    </tr>\n",
       "    <tr>\n",
       "      <th>2</th>\n",
       "      <td>201002</td>\n",
       "      <td>2009</td>\n",
       "      <td>AGUIAR</td>\n",
       "      <td>MANOEL BATISTA GUEDES FILHO</td>\n",
       "    </tr>\n",
       "    <tr>\n",
       "      <th>3</th>\n",
       "      <td>201002</td>\n",
       "      <td>2013</td>\n",
       "      <td>AGUIAR</td>\n",
       "      <td>MANOEL BATISTA GUEDES FILHO</td>\n",
       "    </tr>\n",
       "    <tr>\n",
       "      <th>4</th>\n",
       "      <td>201003</td>\n",
       "      <td>2009</td>\n",
       "      <td>ALAGOA GRANDE</td>\n",
       "      <td>JOAO BOSCO CARNEIRO JUNIOR</td>\n",
       "    </tr>\n",
       "  </tbody>\n",
       "</table>\n",
       "</div>"
      ],
      "text/plain": [
       "   cd_Ugestora dt_Ano    de_Ugestora               NOME_CANDIDATO\n",
       "0       201001   2009    AGUA BRANCA       AROUDO FIRMINO BATISTA\n",
       "1       201001   2013    AGUA BRANCA       TARCISIO ALVES FIRMINO\n",
       "2       201002   2009         AGUIAR  MANOEL BATISTA GUEDES FILHO\n",
       "3       201002   2013         AGUIAR  MANOEL BATISTA GUEDES FILHO\n",
       "4       201003   2009  ALAGOA GRANDE   JOAO BOSCO CARNEIRO JUNIOR"
      ]
     },
     "execution_count": 7,
     "metadata": {},
     "output_type": "execute_result"
    }
   ],
   "source": [
    "sagres_pref_eleit_por_ano = pd.merge(ud_gestoras_pref_pos_2008,cand_2008_2012_PB_ELEITOS,on=['de_Ugestora', 'dt_Ano'])\n",
    "sagres_pref_eleit_por_ano = sagres_pref_eleit_por_ano.drop_duplicates()\n",
    "print len(sagres_pref_eleit_por_ano)\n",
    "sagres_pref_eleit_por_ano.head()"
   ]
  },
  {
   "cell_type": "markdown",
   "metadata": {},
   "source": [
    "## Manipula a base de gestores condenados pelo TRE."
   ]
  },
  {
   "cell_type": "code",
   "execution_count": 14,
   "metadata": {
    "collapsed": false
   },
   "outputs": [
    {
     "name": "stdout",
     "output_type": "stream",
     "text": [
      "138\n"
     ]
    },
    {
     "data": {
      "text/html": [
       "<div>\n",
       "<table border=\"1\" class=\"dataframe\">\n",
       "  <thead>\n",
       "    <tr style=\"text-align: right;\">\n",
       "      <th></th>\n",
       "      <th>dt_Ano</th>\n",
       "      <th>de_Ugestora</th>\n",
       "      <th>ITEM</th>\n",
       "      <th>RESPONSÁVEL</th>\n",
       "    </tr>\n",
       "  </thead>\n",
       "  <tbody>\n",
       "    <tr>\n",
       "      <th>0</th>\n",
       "      <td>2009</td>\n",
       "      <td>PUXINANA</td>\n",
       "      <td>1</td>\n",
       "      <td>ABELARDO ANTONIO COUTINHO</td>\n",
       "    </tr>\n",
       "    <tr>\n",
       "      <th>1</th>\n",
       "      <td>2009</td>\n",
       "      <td>PUXINANA</td>\n",
       "      <td>2</td>\n",
       "      <td>ABELARDO ANTONIO COUTINHO</td>\n",
       "    </tr>\n",
       "    <tr>\n",
       "      <th>2</th>\n",
       "      <td>2009</td>\n",
       "      <td>PUXINANA</td>\n",
       "      <td>3</td>\n",
       "      <td>ABELARDO ANTONIO COUTINHO</td>\n",
       "    </tr>\n",
       "    <tr>\n",
       "      <th>3</th>\n",
       "      <td>2013</td>\n",
       "      <td>PUXINANA</td>\n",
       "      <td>4</td>\n",
       "      <td>ABELARDO ANTONIO COUTINHO</td>\n",
       "    </tr>\n",
       "    <tr>\n",
       "      <th>4</th>\n",
       "      <td>2013</td>\n",
       "      <td>PUXINANA</td>\n",
       "      <td>5</td>\n",
       "      <td>ABELARDO ANTONIO COUTINHO</td>\n",
       "    </tr>\n",
       "  </tbody>\n",
       "</table>\n",
       "</div>"
      ],
      "text/plain": [
       "  dt_Ano de_Ugestora  ITEM                RESPONSÁVEL\n",
       "0   2009    PUXINANA     1  ABELARDO ANTONIO COUTINHO\n",
       "1   2009    PUXINANA     2  ABELARDO ANTONIO COUTINHO\n",
       "2   2009    PUXINANA     3  ABELARDO ANTONIO COUTINHO\n",
       "3   2013    PUXINANA     4  ABELARDO ANTONIO COUTINHO\n",
       "4   2013    PUXINANA     5  ABELARDO ANTONIO COUTINHO"
      ]
     },
     "execution_count": 14,
     "metadata": {},
     "output_type": "execute_result"
    }
   ],
   "source": [
    "def anoPublPGestao(ano):\n",
    "    \"\"\"\n",
    "    Transforma o ano da data de publicação em ano do início de mandato.\n",
    "    \n",
    "    \"\"\"\n",
    "    #Acrescenta 20 ao final da data 12/03/09 - 20+09 = 2009\n",
    "    ano = int('20'+ano[6:])\n",
    "    return mudaAnoUgestora(ano)\n",
    "    \n",
    "    \n",
    "def manipulaCandidatosCondenadosTRE():\n",
    "    \"\"\"\n",
    "    \n",
    "    \"\"\"\n",
    "    path_jul = path+'contas_julgadas_irregulares_TRE_2016.csv'\n",
    "    contas_jul_irr = pd.read_csv(path_jul)\n",
    "    contas_jul_irr = contas_jul_irr[contas_jul_irr['JURISDICIONADO'].str.contains(\"Prefeitura\")]\n",
    "\n",
    "    func_padr_nome_resp = np.vectorize(padronizaTexto)\n",
    "    func_padr_nome_ugest = np.vectorize(nomeUgestora) \n",
    "    func_padr_ano = np.vectorize(anoPublPGestao)  \n",
    "    \n",
    "    nome_resp = func_padr_nome_resp(contas_jul_irr['RESPONSÁVEL'].values)\n",
    "    nome_ugest = func_padr_nome_ugest(contas_jul_irr['JURISDICIONADO'].values)\n",
    "    data_public_gest = func_padr_ano(contas_jul_irr['DATA PUBLICAÇÃO'].values) \n",
    "    \n",
    "    contas_jul_irr.loc[:,('RESPONSÁVEL')] = nome_resp\n",
    "    contas_jul_irr.loc[:,('JURISDICIONADO')] = nome_ugest\n",
    "    contas_jul_irr.loc[:,('DATA PUBLICAÇÃO')] = data_public_gest\n",
    "    \n",
    "    contas_jul_irr.rename(columns={'JURISDICIONADO':'de_Ugestora', 'DATA PUBLICAÇÃO':'dt_Ano'}, inplace=True)\n",
    "    return contas_jul_irr\n",
    "\n",
    "candidatosCondenadosTRE = manipulaCandidatosCondenadosTRE()\n",
    "candidatosCondenadosTRE = candidatosCondenadosTRE[['dt_Ano','de_Ugestora','ITEM','RESPONSÁVEL']]\n",
    "print len(candidatosCondenadosTRE['de_Ugestora'].unique())\n",
    "candidatosCondenadosTRE.head()"
   ]
  },
  {
   "cell_type": "markdown",
   "metadata": {},
   "source": [
    "## Junção entre as tabelas do TRE e Sagres para gerar as gestões condenáveis."
   ]
  },
  {
   "cell_type": "code",
   "execution_count": 15,
   "metadata": {
    "collapsed": false
   },
   "outputs": [
    {
     "name": "stdout",
     "output_type": "stream",
     "text": [
      "449\n"
     ]
    }
   ],
   "source": [
    "def classificaEleito(processo):\n",
    "    \"\"\"\n",
    "    Se a coluna eh vazia entao nao ha processos. Em caso contrario ha processo e eh classificado como irregular.\n",
    "    \"\"\"\n",
    "    if pd.isnull(processo):\n",
    "        return 'NAO IRREGULAR'\n",
    "    return 'IRREGULAR'\n",
    "\n",
    "cand_cond_TREXSagres_Gest = pd.merge(sagres_pref_eleit_por_ano, candidatosCondenadosTRE, how='left', on=['de_Ugestora','dt_Ano'])\n",
    "cand_cond_TREXSagres_Gest.rename(columns={'NOME_CANDIDATO':'Eleito'}, inplace=True)\n",
    "func_class_gest = np.vectorize(classificaEleito)\n",
    "classes = func_class_gest(cand_cond_TREXSagres_Gest['ITEM'].values)\n",
    "cand_cond_TREXSagres_Gest['Classe'] = classes\n",
    "cand_cond_TREXSagres_Gest = cand_cond_TREXSagres_Gest[['cd_Ugestora','dt_Ano','de_Ugestora','Eleito','Classe']].drop_duplicates()\n",
    "print len(cand_cond_TREXSagres_Gest)\n",
    "cand_cond_TREXSagres_Gest.to_csv(path+'TRE_Sagres_Resp_Eleito_Final.csv',sep=',',encoding='utf-8', index=False)"
   ]
  },
  {
   "cell_type": "code",
   "execution_count": 16,
   "metadata": {
    "collapsed": false
   },
   "outputs": [
    {
     "data": {
      "text/html": [
       "<div>\n",
       "<table border=\"1\" class=\"dataframe\">\n",
       "  <thead>\n",
       "    <tr style=\"text-align: right;\">\n",
       "      <th></th>\n",
       "      <th>cd_Ugestora</th>\n",
       "      <th>dt_Ano</th>\n",
       "      <th>de_Ugestora</th>\n",
       "      <th>Eleito</th>\n",
       "      <th>Classe</th>\n",
       "    </tr>\n",
       "  </thead>\n",
       "  <tbody>\n",
       "    <tr>\n",
       "      <th>0</th>\n",
       "      <td>201001</td>\n",
       "      <td>2009</td>\n",
       "      <td>AGUA BRANCA</td>\n",
       "      <td>AROUDO FIRMINO BATISTA</td>\n",
       "      <td>IRREGULAR</td>\n",
       "    </tr>\n",
       "    <tr>\n",
       "      <th>1</th>\n",
       "      <td>201001</td>\n",
       "      <td>2013</td>\n",
       "      <td>AGUA BRANCA</td>\n",
       "      <td>TARCISIO ALVES FIRMINO</td>\n",
       "      <td>IRREGULAR</td>\n",
       "    </tr>\n",
       "    <tr>\n",
       "      <th>3</th>\n",
       "      <td>201002</td>\n",
       "      <td>2009</td>\n",
       "      <td>AGUIAR</td>\n",
       "      <td>MANOEL BATISTA GUEDES FILHO</td>\n",
       "      <td>NAO IRREGULAR</td>\n",
       "    </tr>\n",
       "    <tr>\n",
       "      <th>4</th>\n",
       "      <td>201002</td>\n",
       "      <td>2013</td>\n",
       "      <td>AGUIAR</td>\n",
       "      <td>MANOEL BATISTA GUEDES FILHO</td>\n",
       "      <td>NAO IRREGULAR</td>\n",
       "    </tr>\n",
       "    <tr>\n",
       "      <th>5</th>\n",
       "      <td>201003</td>\n",
       "      <td>2009</td>\n",
       "      <td>ALAGOA GRANDE</td>\n",
       "      <td>JOAO BOSCO CARNEIRO JUNIOR</td>\n",
       "      <td>NAO IRREGULAR</td>\n",
       "    </tr>\n",
       "  </tbody>\n",
       "</table>\n",
       "</div>"
      ],
      "text/plain": [
       "   cd_Ugestora dt_Ano    de_Ugestora                       Eleito  \\\n",
       "0       201001   2009    AGUA BRANCA       AROUDO FIRMINO BATISTA   \n",
       "1       201001   2013    AGUA BRANCA       TARCISIO ALVES FIRMINO   \n",
       "3       201002   2009         AGUIAR  MANOEL BATISTA GUEDES FILHO   \n",
       "4       201002   2013         AGUIAR  MANOEL BATISTA GUEDES FILHO   \n",
       "5       201003   2009  ALAGOA GRANDE   JOAO BOSCO CARNEIRO JUNIOR   \n",
       "\n",
       "          Classe  \n",
       "0      IRREGULAR  \n",
       "1      IRREGULAR  \n",
       "3  NAO IRREGULAR  \n",
       "4  NAO IRREGULAR  \n",
       "5  NAO IRREGULAR  "
      ]
     },
     "execution_count": 16,
     "metadata": {},
     "output_type": "execute_result"
    }
   ],
   "source": [
    "cand_cond_TREXSagres_Gest.head()"
   ]
  }
 ],
 "metadata": {
  "kernelspec": {
   "display_name": "Python 2",
   "language": "python",
   "name": "python2"
  },
  "language_info": {
   "codemirror_mode": {
    "name": "ipython",
    "version": 2
   },
   "file_extension": ".py",
   "mimetype": "text/x-python",
   "name": "python",
   "nbconvert_exporter": "python",
   "pygments_lexer": "ipython2",
   "version": "2.7.12"
  }
 },
 "nbformat": 4,
 "nbformat_minor": 0
}
